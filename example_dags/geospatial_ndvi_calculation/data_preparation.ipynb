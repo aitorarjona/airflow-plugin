{
 "cells": [
  {
   "cell_type": "markdown",
   "metadata": {},
   "source": [
    "# Data selection for NDVI Calculation\n",
    "\n",
    "In this notebook, we will select the tiles that we want to process with the workflow. "
   ]
  },
  {
   "cell_type": "code",
   "execution_count": 3,
   "metadata": {},
   "outputs": [],
   "source": [
    "import os\n",
    "import pickle\n",
    "import asyncio\n",
    "import ipywidgets as widgets\n",
    "import ibm_boto3\n",
    "import ibm_botocore\n",
    "\n",
    "from datetime import date\n",
    "from pprint import pprint\n",
    "from ipyleaflet import *\n",
    "from sentinelsat import SentinelAPI, geojson_to_wkt"
   ]
  },
  {
   "cell_type": "markdown",
   "metadata": {},
   "source": [
    "Set the IBM Cloud Object Storage and Sentinel-2 credentials below.\n",
    "\n",
    "For Sentinel-2, you can register and access data for free at https://sentinel.esa.int/web/sentinel/sentinel-data-access/registration:"
   ]
  },
  {
   "cell_type": "code",
   "execution_count": 4,
   "metadata": {},
   "outputs": [],
   "source": [
    "# IBM COS Credentials\n",
    "IBM_API_KEY_ID='<IBM_API_KEY_ID>'\n",
    "IBM_SERVICE_INSTANCE_ID='<IBM_SERVICE_INSTANCE_ID>'\n",
    "ENDPOINT_URL='<ENDPOINT_URL>'\n",
    "BUCKET='<BUCKET>'\n",
    "\n",
    "# SENTINEL API Credentials\n",
    "SENTINEL_USERNAME='<SENTINEL_USERNAME>'\n",
    "SENTINEL_PASSWORD='<SENTINEL_PASSWORD>'"
   ]
  },
  {
   "cell_type": "markdown",
   "metadata": {},
   "source": [
    "### Download Sentinel 2 Data\n",
    "\n",
    "Choose the date range in which you want to download Sentinel-2 tiles:"
   ]
  },
  {
   "cell_type": "code",
   "execution_count": 20,
   "metadata": {},
   "outputs": [
    {
     "data": {
      "application/vnd.jupyter.widget-view+json": {
       "model_id": "c36611df3c6a408197b2fa62e96785c0",
       "version_major": 2,
       "version_minor": 0
      },
      "text/plain": [
       "DatePicker(value=datetime.date(2019, 11, 3), description='From day')"
      ]
     },
     "metadata": {},
     "output_type": "display_data"
    },
    {
     "data": {
      "application/vnd.jupyter.widget-view+json": {
       "model_id": "6d4cc2115b374f05bd6b19eef28f1f4d",
       "version_major": 2,
       "version_minor": 0
      },
      "text/plain": [
       "DatePicker(value=datetime.date(2019, 11, 10), description='To day')"
      ]
     },
     "metadata": {},
     "output_type": "display_data"
    }
   ],
   "source": [
    "from_day = widgets.DatePicker(\n",
    "    description='From day',\n",
    "    disabled=False,\n",
    "    value=date(2019, 11, 3)\n",
    ") \n",
    "to_day = widgets.DatePicker(\n",
    "    description='To day',\n",
    "    disabled=False,\n",
    "    value=date(2019, 11, 10)\n",
    ")\n",
    "\n",
    "display(from_day)\n",
    "display(to_day)"
   ]
  },
  {
   "cell_type": "markdown",
   "metadata": {},
   "source": [
    "Select the maximum cloud percentage a tile is allowed to have:"
   ]
  },
  {
   "cell_type": "code",
   "execution_count": 15,
   "metadata": {},
   "outputs": [
    {
     "data": {
      "application/vnd.jupyter.widget-view+json": {
       "model_id": "522b62c311d64e5d95475f82f7dda35a",
       "version_major": 2,
       "version_minor": 0
      },
      "text/plain": [
       "IntSlider(value=15, continuous_update=False, description='Porcentaje de nubosidad')"
      ]
     },
     "metadata": {},
     "output_type": "display_data"
    }
   ],
   "source": [
    "percentage = widgets.IntSlider(\n",
    "    value=15,\n",
    "    min=0,\n",
    "    max=100,\n",
    "    step=1,\n",
    "    description='Porcentaje de nubosidad',\n",
    "    disabled=False,\n",
    "    continuous_update=False,\n",
    "    orientation='horizontal',\n",
    "    readout=True,\n",
    "    readout_format='d'\n",
    ")\n",
    "percentage"
   ]
  },
  {
   "cell_type": "markdown",
   "metadata": {},
   "source": [
    "Select (left click) on the following map the range of tiles you want to get from Sentinel-2 (right click erases the current selection):"
   ]
  },
  {
   "cell_type": "code",
   "execution_count": 16,
   "metadata": {
    "scrolled": false
   },
   "outputs": [
    {
     "data": {
      "application/vnd.jupyter.widget-view+json": {
       "model_id": "8cfdfca66e6d4d449193455fe402fd85",
       "version_major": 2,
       "version_minor": 0
      },
      "text/plain": [
       "Map(basemap={'url': 'https://{s}.tile.openstreetmap.org/{z}/{x}/{y}.png', 'max_zoom': 19, 'attribution': 'Map …"
      ]
     },
     "metadata": {},
     "output_type": "display_data"
    }
   ],
   "source": [
    "m = Map(center=(37.9, -1.4), zoom=9)\n",
    "\n",
    "polygon = Polygon(\n",
    "        locations=[[]],\n",
    "        color=\"green\",\n",
    "        fill_color=\"green\"\n",
    "    )\n",
    "\n",
    "def handle_click(**kwargs):\n",
    "    if kwargs.get('type') == 'click':\n",
    "        pol = next(layer for layer in m.layers if isinstance(layer, Polygon))\n",
    "        coords = kwargs.get('coordinates')\n",
    "        if (len(polygon.locations) == 0):\n",
    "            pol.locations[0].extend([coords, coords])\n",
    "        else:\n",
    "            pol.locations[0].insert(1, coords)\n",
    "    \n",
    "        m.remove_layer(pol)\n",
    "        other = Polygon(\n",
    "            locations=pol.locations,\n",
    "            color=\"green\",\n",
    "            fill_color=\"green\"\n",
    "        )\n",
    "        m.add_layer(other)\n",
    "        \n",
    "    if kwargs.get('type') == 'contextmenu':\n",
    "        pol = next(layer for layer in m.layers if isinstance(layer, Polygon))\n",
    "        m.remove_layer(pol)\n",
    "        other = Polygon(\n",
    "            locations=[[]],\n",
    "            color=\"green\",\n",
    "            fill_color=\"green\"\n",
    "        )\n",
    "        m.add_layer(other)\n",
    "\n",
    "m.on_interaction(handle_click)\n",
    "m.add_layer(polygon);\n",
    "m"
   ]
  },
  {
   "cell_type": "markdown",
   "metadata": {},
   "source": [
    "Here we collect the selected shape:"
   ]
  },
  {
   "cell_type": "code",
   "execution_count": 17,
   "metadata": {},
   "outputs": [
    {
     "data": {
      "text/plain": [
       "[[[-1.485516203645365, 37.134319076375355],\n",
       "  [-0.679519855755555, 37.786046441392266],\n",
       "  [-1.0036876737897285, 38.48167913134617],\n",
       "  [-1.036653076662182, 38.64060672038247],\n",
       "  [-1.127307934561399, 38.737079966071335],\n",
       "  [-1.4047667420711398, 38.681355735600185],\n",
       "  [-1.500915833782426, 38.550447699956685],\n",
       "  [-1.470697547816027, 38.38055624080693],\n",
       "  [-1.60805339311787, 38.30515999687283],\n",
       "  [-1.745355750941027, 38.38055624080693],\n",
       "  [-2.4689840560066227, 38.09592994354168],\n",
       "  [-1.485516203645365, 37.134319076375355]]]"
      ]
     },
     "execution_count": 17,
     "metadata": {},
     "output_type": "execute_result"
    }
   ],
   "source": [
    "locations = [[]]\n",
    "first = None\n",
    "for layer in m.layers:\n",
    "    if isinstance(layer, Polygon):\n",
    "        locations[0] = [[loc[1], loc[0]] for loc in layer.locations[0]]\n",
    "        \n",
    "if (len(locations[0]) > 0):\n",
    "    locations[0].append(locations[0][0])\n",
    "\n",
    "locations"
   ]
  },
  {
   "cell_type": "markdown",
   "metadata": {},
   "source": [
    "Set date range, cloud percentage and area parameters:"
   ]
  },
  {
   "cell_type": "code",
   "execution_count": 21,
   "metadata": {},
   "outputs": [],
   "source": [
    "from_date =  from_day.value \n",
    "to_date = to_day.value\n",
    "cloudcoverpercentage=(0, percentage.value)\n",
    "array_area = locations[0]\n",
    "geo_json_area = {\n",
    "  \"features\": [\n",
    "    {\n",
    "      \"geometry\": {\n",
    "        \"coordinates\": [\n",
    "          array_area\n",
    "        ],\n",
    "        \"type\": \"Polygon\"\n",
    "      },\n",
    "      \"properties\": {\n",
    "        \n",
    "      },\n",
    "      \"type\": \"Feature\"\n",
    "    }\n",
    "  ],\n",
    "  \"type\": \"FeatureCollection\"\n",
    "}"
   ]
  },
  {
   "cell_type": "markdown",
   "metadata": {},
   "source": [
    "Get metadata from Sentinel-2:"
   ]
  },
  {
   "cell_type": "code",
   "execution_count": 22,
   "metadata": {},
   "outputs": [
    {
     "name": "stdout",
     "output_type": "stream",
     "text": [
      "Products: 5\n"
     ]
    }
   ],
   "source": [
    "api = SentinelAPI(user=SENTINEL_USERNAME,\n",
    "                  password=SENTINEL_PASSWORD)\n",
    "\n",
    "footprint = geojson_to_wkt(geo_json_area)\n",
    "products = api.query(footprint,\n",
    "                     date=(from_date, to_date),\n",
    "                     platformname='Sentinel-2',\n",
    "                     producttype=('S2MS2Ap', 'S2MSI1C'),\n",
    "                     cloudcoverpercentage=cloudcoverpercentage)\n",
    "\n",
    "print('Products: {}'.format(len(products)))"
   ]
  },
  {
   "cell_type": "markdown",
   "metadata": {},
   "source": [
    "Upload tiles metadata to COS"
   ]
  },
  {
   "cell_type": "code",
   "execution_count": 23,
   "metadata": {
    "scrolled": false
   },
   "outputs": [
    {
     "data": {
      "text/plain": [
       "'[\"94db240c-5ff7-4324-bcec-f03f9c54295d.bin\", \"5de8810b-5464-41b8-b9f8-0205dec825eb.bin\", \"a621faa0-d9fe-4d6f-8a6e-54ace7619f07.bin\", \"e383811c-7161-4e47-8683-1f579a4a1616.bin\", \"feafa8e0-db9f-4e01-9799-1e7b73af3335.bin\"]'"
      ]
     },
     "execution_count": 23,
     "metadata": {},
     "output_type": "execute_result"
    }
   ],
   "source": [
    "client_config = ibm_botocore.client.Config(signature_version='oauth',\n",
    "                                       max_pool_connections=128)\n",
    "cos = ibm_boto3.client('s3',\n",
    "                       ibm_api_key_id=IBM_API_KEY_ID,\n",
    "                       ibm_service_instance_id=IBM_SERVICE_INSTANCE_ID,\n",
    "                       config=client_config,\n",
    "                       endpoint_url=ENDPOINT_URL)\n",
    "keys = []\n",
    "\n",
    "for key, value in products.items():\n",
    "    obj = pickle.dumps(value)\n",
    "    key = key + '.bin'\n",
    "    cos.put_object(Bucket=BUCKET, Key=key, Body=obj)   \n",
    "    keys.append(key)"
   ]
  },
  {
   "cell_type": "code",
   "execution_count": 27,
   "metadata": {},
   "outputs": [
    {
     "name": "stdout",
     "output_type": "stream",
     "text": [
      "[\"94db240c-5ff7-4324-bcec-f03f9c54295d.bin\", \"5de8810b-5464-41b8-b9f8-0205dec825eb.bin\", \"a621faa0-d9fe-4d6f-8a6e-54ace7619f07.bin\", \"e383811c-7161-4e47-8683-1f579a4a1616.bin\", \"feafa8e0-db9f-4e01-9799-1e7b73af3335.bin\"]\n"
     ]
    }
   ],
   "source": [
    "print(json.dumps(keys))"
   ]
  },
  {
   "cell_type": "markdown",
   "metadata": {},
   "source": [
    "Put the previous JSON output to an Airflow variable with key SENTINEL_TILES:\n",
    "\n",
    "![title](images/airflow_vars.png)"
   ]
  },
  {
   "cell_type": "markdown",
   "metadata": {},
   "source": [
    "Don't forget to upload the `shapefile.zip` file to COS, needed by some tasks of the workflow."
   ]
  },
  {
   "cell_type": "code",
   "execution_count": 28,
   "metadata": {},
   "outputs": [],
   "source": [
    "cos.upload_file(Filename='shapefile.zip', Bucket=BUCKET, Key='shapefile.zip')"
   ]
  },
  {
   "cell_type": "markdown",
   "metadata": {},
   "source": [
    "Now you are ready to execute the workflow:\n",
    "\n",
    "![title](images/airflow_dag.png)"
   ]
  }
 ],
 "metadata": {
  "kernelspec": {
   "display_name": "Python (CloudButton)",
   "language": "python",
   "name": ".venv"
  },
  "language_info": {
   "codemirror_mode": {
    "name": "ipython",
    "version": 3
   },
   "file_extension": ".py",
   "mimetype": "text/x-python",
   "name": "python",
   "nbconvert_exporter": "python",
   "pygments_lexer": "ipython3",
   "version": "3.7.7"
  }
 },
 "nbformat": 4,
 "nbformat_minor": 2
}
